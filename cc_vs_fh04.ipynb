{
 "cells": [
  {
   "cell_type": "code",
   "execution_count": 1,
   "metadata": {},
   "outputs": [],
   "source": [
    "import pandas as pd\n",
    "import matplotlib.pyplot as plt\n",
    "import numpy as np\n",
    "import scipy.stats as st"
   ]
  },
  {
   "cell_type": "code",
   "execution_count": 2,
   "metadata": {},
   "outputs": [],
   "source": [
    "save_images = False\n",
    "sep = \",\"\n",
    "enc = \"utf-8\"\n",
    "file = \"cc_vs_fh04.csv\"\n",
    "df = pd.read_csv(file, sep=sep, header=0, encoding=enc)"
   ]
  },
  {
   "cell_type": "code",
   "execution_count": 3,
   "metadata": {},
   "outputs": [],
   "source": [
    "def plot_alg_box(df, feat=\"OOA\", suffixes=[\"FH04\", \"CC\"], ylabel=None,\n",
    "        print_latex=False, ylim=None, figsize=(12,8), yticks=None):\n",
    "    col_names = []\n",
    "    title = feat\n",
    "    for i in range(len(suffixes)):\n",
    "        suffix = suffixes[i]\n",
    "        col_name = feat + \"_\" + suffix\n",
    "        col_names.append(col_name)\n",
    "    sub_df = df.loc[:, col_names]\n",
    "    \n",
    "    if print_latex:\n",
    "        df_desc = sub_df.describe(include=\"all\")\n",
    "        df_desc = df_desc.loc[[\"mean\", \"std\", \"25%\", \"50%\", \"75%\"]]\n",
    "        latex_str = df_desc.to_latex(escape=False, float_format=\"%.2f\")\n",
    "        latex_str = latex_str.replace(\"_\", \"\\_\")\n",
    "        latex_str = latex_str.replace(\"%\", \"\\%\")\n",
    "        latex_str = latex_str.replace(\"|S|\", \"$|\\mathcal{S}|$\")\n",
    "        \n",
    "        print(latex_str)\n",
    "    \n",
    "    sub_df.plot(kind=\"box\", figsize=figsize, rot=90, title=title, grid=True,\n",
    "        showmeans=True, ylabel=ylabel, ylim=ylim, yticks=yticks)"
   ]
  },
  {
   "cell_type": "code",
   "execution_count": 4,
   "metadata": {},
   "outputs": [
    {
     "name": "stdout",
     "output_type": "stream",
     "text": [
      "\\begin{tabular}{lrrr}\n",
      "\\toprule\n",
      "{} &  OOA\\_FH04 &  OOA\\_CC &  OOA\\_CP \\\\\n",
      "\\midrule\n",
      "mean &      0.77 &    0.51 &    0.86 \\\\\n",
      "std  &      0.08 &    0.18 &    0.06 \\\\\n",
      "25\\%  &      0.72 &    0.38 &    0.82 \\\\\n",
      "50\\%  &      0.77 &    0.52 &    0.86 \\\\\n",
      "75\\%  &      0.82 &    0.64 &    0.90 \\\\\n",
      "\\bottomrule\n",
      "\\end{tabular}\n",
      "\n"
     ]
    },
    {
     "data": {
      "image/png": "[encoded data removed]",
      "text/plain": [
       "<Figure size 864x576 with 1 Axes>"
      ]
     },
     "metadata": {
      "needs_background": "light"
     },
     "output_type": "display_data"
    }
   ],
   "source": [
    "plot_alg_box(df=df, feat=\"OOA\", ylabel=r\"$OOA$\", print_latex=True, suffixes=[\"FH04\", \"CC\", \"CP\"])\n",
    "if save_images:\n",
    "    plt.savefig(\"cc_vs_fh04_ooa.png\", bbox_inches=\"tight\")"
   ]
  },
  {
   "cell_type": "code",
   "execution_count": 5,
   "metadata": {},
   "outputs": [
    {
     "name": "stdout",
     "output_type": "stream",
     "text": [
      "\\begin{tabular}{lrrr}\n",
      "\\toprule\n",
      "{} &  $|\\mathcal{S}|$\\_FH04 &  $|\\mathcal{S}|$\\_CC &  $|\\mathcal{S}|$\\_CP \\\\\n",
      "\\midrule\n",
      "mean &    159.72 &  100.90 &  558.13 \\\\\n",
      "std  &     97.92 &   79.89 &  317.23 \\\\\n",
      "25\\%  &     88.25 &   45.25 &  326.25 \\\\\n",
      "50\\%  &    139.00 &   83.00 &  496.50 \\\\\n",
      "75\\%  &    205.75 &  135.00 &  717.75 \\\\\n",
      "\\bottomrule\n",
      "\\end{tabular}\n",
      "\n"
     ]
    },
    {
     "data": {
      "image/png": "[encoded data removed]",
      "text/plain": [
       "<Figure size 864x576 with 1 Axes>"
      ]
     },
     "metadata": {
      "needs_background": "light"
     },
     "output_type": "display_data"
    }
   ],
   "source": [
    "plot_alg_box(df=df, feat=\"|S|\", ylabel=r\"$|\\mathcal{S}|$\", print_latex=True, suffixes=[\"FH04\", \"CC\", \"CP\"])\n",
    "if save_images:\n",
    "    plt.savefig(\"cc_vs_fh04_sizes.png\", bbox_inches=\"tight\")"
   ]
  },
  {
   "cell_type": "code",
   "execution_count": 6,
   "metadata": {},
   "outputs": [],
   "source": [
    "def outliers_idxs(arr):    \n",
    "    q025 = np.quantile(a=arr, q=0.25, axis=0)\n",
    "    q075 = np.quantile(a=arr, q=0.75, axis=0)\n",
    "    iqr = q075 - q025\n",
    "    lb = q025 - 1.5 * iqr\n",
    "    ub = q075 + 1.5 * iqr\n",
    "    mask = (arr >= ub) | (arr <= lb)\n",
    "    out_rows = np.where(mask == True)[0]\n",
    "    return out_rows\n",
    "\n",
    "\n",
    "def ut_test(df, alpha=0.05, feat=\"OOA\", suffixes=[\"FH04\", \"CC\"]):\n",
    "    col_names = []\n",
    "    title = feat\n",
    "    print(title)\n",
    "    if len(suffixes) != 2:\n",
    "        raise Exception(\"Cannot apply u- or t-Test\")\n",
    "    for i in range(len(suffixes)):\n",
    "        suffix = suffixes[i]\n",
    "        col_name = feat + \"_\" + suffix\n",
    "        col_names.append(col_name)\n",
    "    sub_df = df.loc[:, col_names]\n",
    "    \n",
    "    idxs_0 = outliers_idxs(arr=sub_df[col_names[0]].to_numpy())\n",
    "    idxs_1 = outliers_idxs(arr=sub_df[col_names[1]].to_numpy())\n",
    "    out_idxs = np.vstack((idxs_0[:, None], idxs_1[:, None]))\n",
    "    out_idxs = np.unique(out_idxs)\n",
    "    print(\"Remove {0} outliers\".format(out_idxs.shape[0]))\n",
    "    remaining_idxs = np.arange(df.shape[0], dtype=np.uint32)\n",
    "    remaining_idxs = np.delete(remaining_idxs, out_idxs)\n",
    "    sub_df = sub_df.iloc[remaining_idxs, :]\n",
    "    \n",
    "    is_normal = True\n",
    "    for i in range(len(col_names)):\n",
    "        col_name = col_names[i]\n",
    "        _, p_val = st.shapiro(sub_df[col_name])\n",
    "        is_col_normal = p_val < alpha\n",
    "        print(\"{0} is normal: {1} (p={2})\".format(col_name, is_col_normal, p_val))\n",
    "        is_normal = is_normal and is_col_normal\n",
    "    _, p_val = st.bartlett(sub_df[col_names[0]], sub_df[col_names[1]])\n",
    "    equal_var = p_val < alpha\n",
    "    print(\"Equal variance: {0} (p={1})\".format(equal_var, p_val))\n",
    "    if is_normal and equal_var:\n",
    "        _, p_val = st.ttest_ind(a=sub_df[col_names[0]], b=sub_df[col_names[1]])\n",
    "        significant = p_val < alpha\n",
    "        print(\"T-Test for {0} is significant: {1} (p={2:.5f})\".format(title, significant, p_val))\n",
    "    else:\n",
    "        _, p_val = st.mannwhitneyu(x=sub_df[col_names[0]], y=sub_df[col_names[1]])\n",
    "        significant = p_val < alpha\n",
    "        print(\"U-Test for {0} is significant: {1} (p={2:.5f})\".format(title, significant, p_val))"
   ]
  },
  {
   "cell_type": "code",
   "execution_count": 7,
   "metadata": {},
   "outputs": [
    {
     "name": "stdout",
     "output_type": "stream",
     "text": [
      "OOA\n",
      "Remove 14 outliers\n",
      "OOA_FH04 is normal: True (p=0.01549127884209156)\n",
      "OOA_CC is normal: True (p=8.808380516711622e-05)\n",
      "Equal variance: True (p=1.0436071552564273e-100)\n",
      "T-Test for OOA is significant: True (p=0.00000)\n"
     ]
    }
   ],
   "source": [
    "ut_test(df=df, feat=\"OOA\")"
   ]
  },
  {
   "cell_type": "code",
   "execution_count": 8,
   "metadata": {},
   "outputs": [
    {
     "name": "stdout",
     "output_type": "stream",
     "text": [
      "|S|\n",
      "Remove 40 outliers\n",
      "|S|_FH04 is normal: True (p=1.567087659724159e-13)\n",
      "|S|_CC is normal: True (p=1.2231839313940531e-14)\n",
      "Equal variance: True (p=1.997735171006215e-08)\n",
      "T-Test for |S| is significant: True (p=0.00000)\n"
     ]
    }
   ],
   "source": [
    "ut_test(df=df, feat=\"|S|\")"
   ]
  }
 ],
 "metadata": {
  "kernelspec": {
   "display_name": "Python 3 (ipykernel)",
   "language": "python",
   "name": "python3"
  },
  "language_info": {
   "codemirror_mode": {
    "name": "ipython",
    "version": 3
   },
   "file_extension": ".py",
   "mimetype": "text/x-python",
   "name": "python",
   "nbconvert_exporter": "python",
   "pygments_lexer": "ipython3",
   "version": "3.9.7"
  }
 },
 "nbformat": 4,
 "nbformat_minor": 2
}
