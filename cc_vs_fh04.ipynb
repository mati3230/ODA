{
 "cells": [
  {
   "cell_type": "code",
   "execution_count": null,
   "metadata": {},
   "outputs": [],
   "source": [
    "import pandas as pd\n",
    "import matplotlib.pyplot as plt\n",
    "import numpy as np\n",
    "import scipy.stats as st"
   ]
  },
  {
   "cell_type": "code",
   "execution_count": null,
   "metadata": {},
   "outputs": [],
   "source": [
    "save_images = False\n",
    "sep = \",\"\n",
    "enc = \"utf-8\"\n",
    "file = \"cc_vs_fh04.csv\"\n",
    "df = pd.read_csv(file, sep=sep, header=0, encoding=enc)"
   ]
  },
  {
   "cell_type": "code",
   "execution_count": null,
   "metadata": {},
   "outputs": [],
   "source": [
    "def plot_alg_box(df, feat=\"OOA\", suffixes=[\"FH04\", \"CC\"], ylabel=None,\n",
    "        print_latex=False, ylim=None, figsize=(12,8), yticks=None):\n",
    "    col_names = []\n",
    "    title = feat\n",
    "    for i in range(len(suffixes)):\n",
    "        suffix = suffixes[i]\n",
    "        col_name = feat + \"_\" + suffix\n",
    "        col_names.append(col_name)\n",
    "    sub_df = df.loc[:, col_names]\n",
    "    \n",
    "    if print_latex:\n",
    "        df_desc = sub_df.describe(include=\"all\")\n",
    "        df_desc = df_desc.loc[[\"mean\", \"std\", \"25%\", \"50%\", \"75%\"]]\n",
    "        latex_str = df_desc.to_latex(escape=False, float_format=\"%.2f\")\n",
    "        latex_str = latex_str.replace(\"_\", \"\\_\")\n",
    "        latex_str = latex_str.replace(\"%\", \"\\%\")\n",
    "        latex_str = latex_str.replace(\"|S|\", \"$|\\mathcal{S}|$\")\n",
    "        \n",
    "        print(latex_str)\n",
    "    \n",
    "    sub_df.plot(kind=\"box\", figsize=figsize, rot=90, title=title, grid=True,\n",
    "        showmeans=True, ylabel=ylabel, ylim=ylim, yticks=yticks)"
   ]
  },
  {
   "cell_type": "code",
   "execution_count": null,
   "metadata": {},
   "outputs": [],
   "source": [
    "plot_alg_box(df=df, feat=\"OOA\", ylabel=r\"$OOA$\", print_latex=True)\n",
    "if save_images:\n",
    "    plt.savefig(\"cc_vs_fh04_ooa.png\", bbox_inches=\"tight\")"
   ]
  },
  {
   "cell_type": "code",
   "execution_count": null,
   "metadata": {},
   "outputs": [],
   "source": [
    "plot_alg_box(df=df, feat=\"|S|\", ylabel=r\"$OOA$\", print_latex=True)\n",
    "if save_images:\n",
    "    plt.savefig(\"cc_vs_fh04_sizes.png\", bbox_inches=\"tight\")"
   ]
  },
  {
   "cell_type": "code",
   "execution_count": null,
   "metadata": {},
   "outputs": [],
   "source": [
    "def outliers_idxs(arr):    \n",
    "    q025 = np.quantile(a=arr, q=0.25, axis=0)\n",
    "    q075 = np.quantile(a=arr, q=0.75, axis=0)\n",
    "    iqr = q075 - q025\n",
    "    lb = q025 - 1.5 * iqr\n",
    "    ub = q075 + 1.5 * iqr\n",
    "    mask = (arr >= ub) | (arr <= lb)\n",
    "    out_rows = np.where(mask == True)[0]\n",
    "    return out_rows\n",
    "\n",
    "\n",
    "def ut_test(df, alpha=0.05, feat=\"OOA\", suffixes=[\"FH04\", \"CC\"]):\n",
    "    col_names = []\n",
    "    title = feat\n",
    "    print(title)\n",
    "    if len(suffixes) != 2:\n",
    "        raise Exception(\"Cannot apply u- or t-Test\")\n",
    "    for i in range(len(suffixes)):\n",
    "        suffix = suffixes[i]\n",
    "        col_name = feat + suffix\n",
    "        col_names.append(col_name)\n",
    "    sub_df = df.loc[:, col_names]\n",
    "    \n",
    "    idxs_0 = outliers_idxs(arr=sub_df[col_names[0]].to_numpy())\n",
    "    idxs_1 = outliers_idxs(arr=sub_df[col_names[1]].to_numpy())\n",
    "    out_idxs = np.vstack((idxs_0[:, None], idxs_1[:, None]))\n",
    "    out_idxs = np.unique(out_idxs)\n",
    "    print(\"Remove {0} outliers\".format(out_idxs.shape[0]))\n",
    "    remaining_idxs = np.arange(df.shape[0], dtype=np.uint32)\n",
    "    remaining_idxs = np.delete(remaining_idxs, out_idxs)\n",
    "    sub_df = sub_df.iloc[remaining_idxs, :]\n",
    "    \n",
    "    is_normal = True\n",
    "    for i in range(len(col_names)):\n",
    "        col_name = col_names[i]\n",
    "        _, p_val = st.shapiro(sub_df[col_name])\n",
    "        is_col_normal = p_val < alpha\n",
    "        print(\"{0} is normal: {1} (p={2})\".format(col_name, is_col_normal, p_val))\n",
    "        is_normal = is_normal and is_col_normal\n",
    "    _, p_val = st.bartlett(sub_df[col_names[0]], sub_df[col_names[1]])\n",
    "    equal_var = p_val < alpha\n",
    "    print(\"Equal variance: {0} (p={1})\".format(equal_var, p_val))\n",
    "    if is_normal and equal_var:\n",
    "        _, p_val = st.ttest_ind(a=sub_df[col_names[0]], b=sub_df[col_names[1]])\n",
    "        significant = p_val < alpha\n",
    "        print(\"T-Test for {0} is significant: {1} (p={2:.5f})\".format(title, significant, p_val))\n",
    "    else:\n",
    "        _, p_val = st.mannwhitneyu(x=sub_df[col_names[0]], y=sub_df[col_names[1]])\n",
    "        significant = p_val < alpha\n",
    "        print(\"U-Test for {0} is significant: {1} (p={2:.5f})\".format(title, significant, p_val))"
   ]
  },
  {
   "cell_type": "code",
   "execution_count": null,
   "metadata": {},
   "outputs": [],
   "source": [
    "ut_test(df=df, feat=\"OOA\")"
   ]
  },
  {
   "cell_type": "code",
   "execution_count": null,
   "metadata": {},
   "outputs": [],
   "source": [
    "ut_test(df=df, feat=\"|S|\")"
   ]
  }
 ],
 "metadata": {
  "kernelspec": {
   "display_name": "Python 3",
   "language": "python",
   "name": "python3"
  },
  "language_info": {
   "codemirror_mode": {
    "name": "ipython",
    "version": 3
   },
   "file_extension": ".py",
   "mimetype": "text/x-python",
   "name": "python",
   "nbconvert_exporter": "python",
   "pygments_lexer": "ipython3",
   "version": "3.7.1"
  }
 },
 "nbformat": 4,
 "nbformat_minor": 2
}
