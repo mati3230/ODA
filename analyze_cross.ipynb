{
 "cells": [
  {
   "cell_type": "code",
   "execution_count": 1,
   "metadata": {},
   "outputs": [],
   "source": [
    "import pandas as pd\n",
    "import itertools\n",
    "#%matplotlib widget\n",
    "import matplotlib.pyplot as plt\n",
    "import numpy as np\n",
    "import scipy.stats as st\n",
    "#import scikit_posthocs as sp"
   ]
  },
  {
   "cell_type": "code",
   "execution_count": 2,
   "metadata": {},
   "outputs": [],
   "source": [
    "save_images = False\n",
    "file = \"results_cross.csv\"\n",
    "sep = \",\"\n",
    "enc = \"utf-8\"\n",
    "\n",
    "df = pd.read_csv(file, sep=sep, header=0, encoding=enc)"
   ]
  },
  {
   "cell_type": "code",
   "execution_count": 3,
   "metadata": {},
   "outputs": [
    {
     "name": "stdout",
     "output_type": "stream",
     "text": [
      "['idx', 'id', 'name', '|V|', '|T|', 'lambda', 'knn', '|S_P0|', '|E_P0|', '|S_P1|', '|E_P1|', 'file_gt', 'max_ite_P0', 'n_ite_P0', 'exit_code_P0', 's1_P0', 's2_P0', 's3_P0', 's4_P0', 's5_P0', 'e1_1_P0', 'e1_2_P0', 'e1_3_P0', 'e1_4_P0', 'e1_5_P0', 'e2_1_P0', 'e2_2_P0', 'e2_3_P0', 'e2_4_P0', 'e2_5_P0', '|SSp1|_P0', '|SSp2|_P0', '|SSp3|_P0', '|SSp4|_P0', '|SSp5|_P0', '|SR1|_P0', '|SR2|_P0', '|SR3|_P0', '|SR4|_P0', '|SR5|_P0', 'mean(L)_P0', 'mean(P)_P0', 'mean(S)_P0', 'mean(V)_P0', 'std(L)_P0', 'std(P)_P0', 'std(S)_P0', 'std(V)_P0', 'median(L)_P0', 'median(P)_P0', 'median(S)_P0', 'median(V)_P0', 'mean(w)_P0', 'std(w)_P0', 'median(w)_P0', 'max_ite_P1', 'n_ite_P1', 'exit_code_P1', 's1_P1', 's2_P1', 's3_P1', 's4_P1', 's5_P1', 'e1_1_P1', 'e1_2_P1', 'e1_3_P1', 'e1_4_P1', 'e1_5_P1', 'e2_1_P1', 'e2_2_P1', 'e2_3_P1', 'e2_4_P1', 'e2_5_P1', '|SSp1|_P1', '|SSp2|_P1', '|SSp3|_P1', '|SSp4|_P1', '|SSp5|_P1', '|SR1|_P1', '|SR2|_P1', '|SR3|_P1', '|SR4|_P1', '|SR5|_P1', 'mean(L)_P1', 'mean(P)_P1', 'mean(S)_P1', 'mean(V)_P1', 'std(L)_P1', 'std(P)_P1', 'std(S)_P1', 'std(V)_P1', 'median(L)_P1', 'median(P)_P1', 'median(S)_P1', 'median(V)_P1', 'mean(w)_P1', 'std(w)_P1', 'median(w)_P1']\n"
     ]
    }
   ],
   "source": [
    "data_header = [\n",
    "    \"idx\",\n",
    "    \"id\", # integer that is mapped to the scene\n",
    "    \"name\", # name of the scene\n",
    "    \"|V|\", # nr of vertices\n",
    "    \"|T|\", # nr of triangles\n",
    "    \"lambda\", # regularization strength of cp\n",
    "    \"knn\", # neighbourhood size which is considered in the CP\n",
    "    \"|S_P0|\", # nr of superpoints in the mesh partition\n",
    "    \"|E_P0|\" # nr of superedges in the mesh superpoint graph\n",
    "]\n",
    "\n",
    "data_header.extend([\n",
    "    \"|S_P1|\", # nr of superpoints in the point cloud partition\n",
    "    \"|E_P1|\" # nr of superedges in the point cloud superpoint graph\n",
    "])\n",
    "data_header.append(\"file_gt\")# path to the ground truth mesh\n",
    "\n",
    "posts = [\"_P0\", \"_P1\"]\n",
    "\n",
    "for post in posts:\n",
    "    data_header.append(\"max_ite\" + post)\n",
    "    data_header.append(\"n_ite\" + post)\n",
    "    data_header.append(\"exit_code\" + post)\n",
    "\n",
    "    data_header.append(\"s1\" + post)\n",
    "    data_header.append(\"s2\" + post)\n",
    "    data_header.append(\"s3\" + post)\n",
    "    data_header.append(\"s4\" + post)\n",
    "    data_header.append(\"s5\" + post)\n",
    "\n",
    "    data_header.append(\"e1_1\" + post)\n",
    "    data_header.append(\"e1_2\" + post)\n",
    "    data_header.append(\"e1_3\" + post)\n",
    "    data_header.append(\"e1_4\" + post)\n",
    "    data_header.append(\"e1_5\" + post)\n",
    "\n",
    "    data_header.append(\"e2_1\" + post)\n",
    "    data_header.append(\"e2_2\" + post)\n",
    "    data_header.append(\"e2_3\" + post)\n",
    "    data_header.append(\"e2_4\" + post)\n",
    "    data_header.append(\"e2_5\" + post)\n",
    "\n",
    "    data_header.append(\"|SSp1|\" + post)\n",
    "    data_header.append(\"|SSp2|\" + post)\n",
    "    data_header.append(\"|SSp3|\" + post)\n",
    "    data_header.append(\"|SSp4|\" + post)\n",
    "    data_header.append(\"|SSp5|\" + post)\n",
    "\n",
    "    data_header.append(\"|SR1|\" + post)\n",
    "    data_header.append(\"|SR2|\" + post)\n",
    "    data_header.append(\"|SR3|\" + post)\n",
    "    data_header.append(\"|SR4|\" + post)\n",
    "    data_header.append(\"|SR5|\" + post)\n",
    "    for feat in [\"L\", \"P\", \"S\", \"V\"]:\n",
    "        data_header.append(\"mean({0}){1}\".format(feat, post))\n",
    "    for feat in [\"L\", \"P\", \"S\", \"V\"]:\n",
    "        data_header.append(\"std({0}){1}\".format(feat, post))\n",
    "    for feat in [\"L\", \"P\", \"S\", \"V\"]:\n",
    "        data_header.append(\"median({0}){1}\".format(feat, post))\n",
    "    data_header.append(\"mean(w){0}\".format(post))\n",
    "    data_header.append(\"std(w){0}\".format(post))\n",
    "    data_header.append(\"median(w){0}\".format(post))\n",
    "print(data_header)"
   ]
  },
  {
   "cell_type": "code",
   "execution_count": 4,
   "metadata": {},
   "outputs": [
    {
     "name": "stdout",
     "output_type": "stream",
     "text": [
      "    idx    id          name     |V|     |T|  lambda  knn  |S_P0|  |E_P0|  \\\n",
      "0     0   132  scene0061_01  177096  339094     0.1   30     836    7382   \n",
      "1     1  1323  scene0621_00  250821  483813     0.1   30     616    5702   \n",
      "2     2   782  scene0368_01   95679  173890     0.1   30    1018   10874   \n",
      "3     3  1345  scene0630_03  134702  250353     0.1   30     512    4484   \n",
      "4     4  1434  scene0673_02  272863  521057     0.1   30     704    6104   \n",
      "..  ...   ...           ...     ...     ...     ...  ...     ...     ...   \n",
      "76   76   215  scene0098_01  156148  299197     0.1   30     815    7606   \n",
      "77   77  1298  scene0609_01  115550  217901     0.1   30     187    1470   \n",
      "78   78   618  scene0289_00  116005  215882     0.1   30     643    6280   \n",
      "79   79  1095  scene0516_01  289323  546573     0.1   30     937    8174   \n",
      "80   80   182  scene0085_00  187883  363187     0.1   30     408    3372   \n",
      "\n",
      "    |S_P1|  ...  std(P)_P1 std(S)_P1  std(V)_P1  median(L)_P1  median(P)_P1  \\\n",
      "0      128  ...   0.253117  0.208462   0.505130      0.152911      0.512026   \n",
      "1      202  ...   0.268858  0.218492   0.520934      0.140371      0.586615   \n",
      "2      168  ...   0.254344  0.188053   0.528759      0.179509      0.514426   \n",
      "3      184  ...   0.247355  0.198664   0.478592      0.170230      0.510991   \n",
      "4      236  ...   0.250274  0.195502   0.470418      0.146441      0.584614   \n",
      "..     ...  ...        ...       ...        ...           ...           ...   \n",
      "76     158  ...   0.253946  0.195319   0.520520      0.143187      0.629016   \n",
      "77     100  ...   0.257861  0.205782   0.535346      0.147993      0.573855   \n",
      "78     159  ...   0.247089  0.181203   0.520777      0.162035      0.600757   \n",
      "79     279  ...   0.240275  0.188117   0.499769      0.157141      0.558933   \n",
      "80     134  ...   0.248134  0.194737   0.466975      0.134196      0.662286   \n",
      "\n",
      "    median(S)_P1  median(V)_P1  mean(w)_P1  std(w)_P1  median(w)_P1  \n",
      "0       0.284208      1.126339    0.523782   0.111594      0.517144  \n",
      "1       0.220839      0.996746    0.522034   0.108862      0.511149  \n",
      "2       0.224870      0.792751    0.523770   0.112516      0.512834  \n",
      "3       0.257576      1.195994    0.520219   0.105348      0.504617  \n",
      "4       0.220496      1.243925    0.520147   0.105043      0.504742  \n",
      "..           ...           ...         ...        ...           ...  \n",
      "76      0.183780      1.178903    0.520485   0.106668      0.503752  \n",
      "77      0.229967      0.713015    0.522883   0.110090      0.512951  \n",
      "78      0.173363      1.094583    0.522208   0.110218      0.505545  \n",
      "79      0.227298      1.248163    0.521500   0.108332      0.506436  \n",
      "80      0.178676      1.311003    0.522048   0.109355      0.507989  \n",
      "\n",
      "[81 rows x 98 columns]\n"
     ]
    }
   ],
   "source": [
    "#print(len(data_header))\n",
    "#print(df.shape)\n",
    "#print(df.iloc[1, :-8])\n",
    "df = df.iloc[:, :-8]\n",
    "df.columns = data_header\n",
    "#df.columns = data_header\n",
    "print(df)"
   ]
  },
  {
   "cell_type": "code",
   "execution_count": 5,
   "metadata": {},
   "outputs": [],
   "source": [
    "knns = [30]\n",
    "reg_strengths = [0.1]\n",
    "\n",
    "cp_args = list(itertools.product(*[reg_strengths, knns]))\n",
    "n_cp_args = len(cp_args)\n",
    "\n",
    "stat_cols = [\"|S_P0|\", \"|S_P1|\", \"|E_P0|\", \"|E_P1|\"]\n",
    "\n",
    "ite_vars = [\n",
    "    \"|SSp1|\", \"|SSp2|\", \"|SSp3|\", \"|SSp4|\", \"|SSp5|\",\n",
    "    \"|SR1|\", \"|SR2|\", \"|SR3|\", \"|SR4|\", \"|SR5|\"\n",
    "   ]\n",
    "\n",
    "for post in [\"_P0\", \"_P1\"]:\n",
    "    for ite_var in ite_vars:\n",
    "        stat_cols.append(ite_var + post)\n",
    "    for feat in [\"L\", \"P\", \"S\", \"V\"]:\n",
    "        stat_cols.append(\"mean({0}){1}\".format(feat, post))\n",
    "    for feat in [\"L\", \"P\", \"S\", \"V\"]:\n",
    "        stat_cols.append(\"std({0}){1}\".format(feat, post))\n",
    "    for feat in [\"L\", \"P\", \"S\", \"V\"]:\n",
    "        stat_cols.append(\"median({0}){1}\".format(feat, post))\n",
    "    stat_cols.append(\"mean(w){0}\".format(post))\n",
    "    stat_cols.append(\"std(w){0}\".format(post))\n",
    "    stat_cols.append(\"median(w){0}\".format(post))\n",
    "\n",
    "stats_list = n_cp_args * [None]"
   ]
  },
  {
   "cell_type": "code",
   "execution_count": 6,
   "metadata": {},
   "outputs": [
    {
     "name": "stdout",
     "output_type": "stream",
     "text": [
      "3\n",
      "2\n"
     ]
    }
   ],
   "source": [
    "def diff(stat_df, col1, col2):\n",
    "    d = stat_df.loc[:, col1] - stat_df.loc[:, col2]\n",
    "    return d\n",
    "\n",
    "for i in range(n_cp_args):\n",
    "    reg_strength, knn = cp_args[i]\n",
    "    tmp_df = df[(df[\"lambda\"] == reg_strength) & (df[\"knn\"] == knn)]\n",
    "    \n",
    "    #tmp_df = pd.merge(tmp_df, gt_df, how =\"inner\", on =[\"id\"])\n",
    "    \n",
    "    print(np.min(tmp_df.loc[:, \"n_ite_P0\"]))\n",
    "    print(np.min(tmp_df.loc[:, \"n_ite_P1\"]))\n",
    "    \n",
    "    stat_df = tmp_df.loc[:, stat_cols]    \n",
    "    d1_M = diff(stat_df, \"|SR1|_P0\", \"|SSp1|_P0\")\n",
    "    d2_M = diff(stat_df, \"|SSp2|_P0\", \"|SR1|_P0\")\n",
    "    d3_M = diff(stat_df, \"|SR2|_P0\", \"|SSp2|_P0\")\n",
    "    d4_M = diff(stat_df, \"|SSp3|_P0\", \"|SR2|_P0\")\n",
    "    d5_M = diff(stat_df, \"|SR3|_P0\", \"|SSp3|_P0\")\n",
    "    d6_M = diff(stat_df, \"|SSp4|_P0\", \"|SR3|_P0\")\n",
    "    d7_M = diff(stat_df, \"|SR5|_P0\", \"|SSp4|_P0\")\n",
    "    d8_M = diff(stat_df, \"|SSp5|_P0\", \"|SR5|_P0\")\n",
    "    \n",
    "    d1_P = diff(stat_df, \"|SR1|_P1\", \"|SSp1|_P1\")\n",
    "    d2_P = diff(stat_df, \"|SSp2|_P1\", \"|SR1|_P1\")\n",
    "    d3_P = diff(stat_df, \"|SR2|_P1\", \"|SSp2|_P1\")\n",
    "    d4_P = diff(stat_df, \"|SSp3|_P1\", \"|SR2|_P1\")\n",
    "    d5_P = diff(stat_df, \"|SR3|_P1\", \"|SSp3|_P1\")\n",
    "    d6_P = diff(stat_df, \"|SSp4|_P1\", \"|SR3|_P1\")\n",
    "    d7_P = diff(stat_df, \"|SR5|_P1\", \"|SSp4|_P1\")\n",
    "    d8_P = diff(stat_df, \"|SSp5|_P1\", \"|SR5|_P1\")\n",
    "    \n",
    "    rf = pd.DataFrame(data=[\n",
    "        d1_M, d2_M, d3_M, d4_M, d5_M, d6_M, d7_M, d8_M, \n",
    "        d1_P, d2_P, d3_P, d4_P, d5_P, d6_P, d7_P, d8_P\n",
    "    ]).transpose()\n",
    "    rf.columns = [\n",
    "        \"d_sp1r1_M\", #1\n",
    "        \"d_r1sp2_M\", #2\n",
    "        \"d_sp2r2_M\", #3\n",
    "        \"d_r2sp3_M\", #4\n",
    "        \"d_sp3r3_M\", #5\n",
    "        \"d_r3sp4_M\", #6\n",
    "        \"d_sp4r5_M\", #7\n",
    "        \"d_r5sp5_M\", #8\n",
    "        \"d_sp1r1_P\", #1\n",
    "        \"d_r1sp2_P\", #2\n",
    "        \"d_sp2r2_P\", #3\n",
    "        \"d_r2sp3_P\", #4\n",
    "        \"d_sp3r3_P\", #5\n",
    "        \"d_r3sp4_P\", #6\n",
    "        \"d_sp4r5_P\", #7\n",
    "        \"d_r5sp5_P\", #8\n",
    "    ]\n",
    "    \n",
    "    stat_df_ = pd.concat([stat_df, rf], axis=1)\n",
    "    \n",
    "    mean_stat = stat_df_.mean(axis=0)\n",
    "    std_stat = stat_df_.std(axis=0)\n",
    "    median_stat = stat_df_.median(axis=0)\n",
    "    \n",
    "    stats = pd.concat([mean_stat, std_stat, median_stat], axis=1).transpose()\n",
    "    #index_str = \"_{0:.3f}_{1}\".format(reg_strength, knn)\n",
    "    #stats.index = [\"mean\" + index_str, \"std\" + index_str, \"median\" + index_str]\n",
    "    stats.index = [\"mean\", \"std\", \"median\"]\n",
    "    #print(stats[\"|SSp1|_M\"] - stats[\"|SSp1|_P\"])\n",
    "    #print(stats[\"|SSp2|_M\"] - stats[\"|SSp2|_P\"])\n",
    "    #print(stats[\"|SSp3|_M\"] - stats[\"|SSp3|_P\"])\n",
    "\n",
    "    #print(stats[\"|SR1|_M\"] - stats[\"|SR1|_P\"])\n",
    "    #print(stats[\"|SR2|_M\"] - stats[\"|SR2|_P\"])\n",
    "    #print(stats[\"|SR3|_M\"] - stats[\"|SR3|_P\"])\n",
    "    stats_t = ((reg_strength, knn), stats, stat_df_)\n",
    "    stats_list[i] = stats_t"
   ]
  },
  {
   "cell_type": "code",
   "execution_count": 7,
   "metadata": {},
   "outputs": [],
   "source": [
    "def plot_bar(x, df, ylabel, labels, title, miny=None, maxy=None, xticks=None):\n",
    "    f = plt.figure()\n",
    "    f.set_figwidth(12)\n",
    "    f.set_figheight(8)\n",
    "    plt.rc(\"font\", size=20)\n",
    "    \n",
    "    ax = f.add_axes([0,0,1,1])\n",
    "    if miny is not None and maxy is not None:\n",
    "        ax.set(ylim=[miny, maxy])\n",
    "    width = 0.225    \n",
    "    d_ = np.array(x, copy=True)\n",
    "    d_ = d_.astype(np.float32)\n",
    "    for i in range(df.shape[1]):\n",
    "        c = \"blue\"\n",
    "        #plt.plot(x, y[:, i], \"x\", label=labels[i])\n",
    "        #print(y[:, i])\n",
    "        if i % 2 == 0:\n",
    "            c = \"orange\"\n",
    "        ax.bar(x=d_, height=df.iloc[0, i], width=width, color=c)\n",
    "        d_ += width\n",
    "    #plt.legend()\n",
    "    ax.legend(labels=labels)\n",
    "    if xticks is not None:\n",
    "        plt.xticks(x, xticks, rotation=\"vertical\")\n",
    "    plt.title(title)\n",
    "    plt.ylabel(ylabel)\n",
    "    #plt.show()"
   ]
  },
  {
   "cell_type": "code",
   "execution_count": 20,
   "metadata": {},
   "outputs": [],
   "source": [
    "def plot_df(cp_args, n_cp_args, stats_list, ex_cols, col_names, title=None, use_log=False, describe=False, print_latex=False, val_multiplier=1, ylabel=None, xlabel=None):\n",
    "    df_all = None\n",
    "    for i in range(n_cp_args):\n",
    "        ex_cols_ = ex_cols.copy()\n",
    "        col_names_ = col_names.copy()\n",
    "        #if i == 1 or i == 3 or i == 5:\n",
    "        #if i == 1 or i == 3:\n",
    "        #    del ex_cols_[2]\n",
    "        #    del col_names_[2]\n",
    "        df = stats_list[i][2].loc[:, ex_cols_].copy()\n",
    "        if use_log:\n",
    "            df = np.log10(df)\n",
    "        col = []\n",
    "        for c in col_names_:\n",
    "            col.append(c + r\"$({0}, {1})$\".format(cp_args[i][0], cp_args[i][1]))\n",
    "        df.columns = col\n",
    "        #print(col[-1], df)\n",
    "        if df_all is None:\n",
    "            df_all = df\n",
    "        else:\n",
    "            df_all = pd.concat([df_all, df], axis=0)\n",
    "    #print(df_all)\n",
    "    if describe:\n",
    "        print(df_all.describe(include=\"all\"))\n",
    "    if print_latex:\n",
    "        df_desc = df_all.describe(include=\"all\")\n",
    "        #print(df_desc)\n",
    "        df_desc = df_desc.loc[[\"mean\", \"std\", \"25%\", \"50%\", \"75%\"]]\n",
    "        df_desc = df_desc * val_multiplier\n",
    "        latex_str = df_desc.to_latex(escape=False, float_format=\"%.2f\")\n",
    "        print(latex_str)\n",
    "    df_all.plot(kind=\"box\", figsize=(12,8), rot=90, title=title, grid=True, showmeans=True, ylabel=ylabel, xlabel=xlabel)"
   ]
  },
  {
   "cell_type": "code",
   "execution_count": 11,
   "metadata": {},
   "outputs": [
    {
     "name": "stdout",
     "output_type": "stream",
     "text": [
      "          |S_P0|      |S_P1|       |E_P0|       |E_P1|   |SSp1|_P0  \\\n",
      "mean  806.604938  125.703704  7360.864198  1490.419753  279.259259   \n",
      "\n",
      "       |SSp2|_P0   |SSp3|_P0   |SSp4|_P0  |SSp5|_P0   |SR1|_P0  ...  \\\n",
      "mean  506.617284  743.358025  628.320988  30.888889  277.17284  ...   \n",
      "\n",
      "       d_sp4r5_M  d_r5sp5_M  d_sp1r1_P  d_r1sp2_P  d_sp2r2_P  d_r2sp3_P  \\\n",
      "mean -599.765432   2.333333  -1.074074  47.814815  -6.753086  45.074074   \n",
      "\n",
      "      d_sp3r3_P  d_r3sp4_P   d_sp4r5_P  d_r5sp5_P  \n",
      "mean -13.938272   13.62963 -117.679012   0.555556  \n",
      "\n",
      "[1 rows x 70 columns]\n"
     ]
    }
   ],
   "source": [
    "df_desc = stats_list[0][2].describe(include=\"all\")\n",
    "print(df_desc.loc[[\"mean\"]])"
   ]
  },
  {
   "cell_type": "code",
   "execution_count": 12,
   "metadata": {},
   "outputs": [
    {
     "data": {
      "image/png": "[encoded data removed]",
      "text/plain": [
       "<Figure size 864x576 with 1 Axes>"
      ]
     },
     "metadata": {
      "needs_background": "light"
     },
     "output_type": "display_data"
    }
   ],
   "source": [
    "df_mean = df_desc.loc[[\"mean\"],\n",
    "                      [\n",
    "                          \"mean(L)_P0\", \"mean(L)_P1\",\n",
    "                          \"mean(P)_P0\", \"mean(P)_P1\",\n",
    "                          \"mean(S)_P0\", \"mean(S)_P1\",\n",
    "                          \"mean(V)_P0\", \"mean(V)_P1\"\n",
    "                      ]\n",
    "                     ]\n",
    "x = np.arange(1, dtype=np.uint32)\n",
    "plot_bar(x=x, df=df_mean, ylabel=r\"$(L, P, S, V)$\", labels=[r\"$P_0$\", r\"$P_1$\"], title=r\"Features\")\n",
    "#plt.savefig(\"growth.png\", bbox_inches=\"tight\")"
   ]
  },
  {
   "cell_type": "code",
   "execution_count": 13,
   "metadata": {},
   "outputs": [
    {
     "data": {
      "image/png": "[encoded data removed]",
      "text/plain": [
       "<Figure size 864x576 with 1 Axes>"
      ]
     },
     "metadata": {
      "needs_background": "light"
     },
     "output_type": "display_data"
    }
   ],
   "source": [
    "df_mean = df_desc.loc[[\"mean\"],\n",
    "                      [\n",
    "                          \"|SSp1|_P0\", \"|SSp1|_P1\",\n",
    "                          \"|SR1|_P0\", \"|SR1|_P1\",\n",
    "                          \"|SSp2|_P0\", \"|SSp2|_P1\",\n",
    "                          \"|SR2|_P0\", \"|SR2|_P1\",\n",
    "                          \"|SSp3|_P0\", \"|SSp3|_P1\",\n",
    "                          \"|SR3|_P0\", \"|SR3|_P1\"#,\n",
    "                          #\"|SSp4|_M\", \"|SSp4|_P\",\n",
    "                          #\"|SR4|_M\", \"|SR4|_P\",\n",
    "                          #\"|SSp5|_M\", \"|SSp5|_P\",\n",
    "                          #\"|SR5|_M\", \"|SR5|_P\",\n",
    "                      ]\n",
    "                     ]\n",
    "x = np.arange(1, dtype=np.uint32)\n",
    "plot_bar(x=x, df=df_mean, ylabel=r\"$|\\mathcal{S}|$\", labels=[r\"$P_0$\", r\"$P_1$\"], title=r\"Sizes\")\n",
    "#plt.savefig(\"growth.png\", bbox_inches=\"tight\")"
   ]
  },
  {
   "cell_type": "code",
   "execution_count": 14,
   "metadata": {},
   "outputs": [
    {
     "data": {
      "image/png": "[encoded data removed]",
      "text/plain": [
       "<Figure size 864x576 with 1 Axes>"
      ]
     },
     "metadata": {
      "needs_background": "light"
     },
     "output_type": "display_data"
    }
   ],
   "source": [
    "plot_df(cp_args=cp_args, n_cp_args=n_cp_args, stats_list=stats_list, \n",
    "        col_names=[r\"$P_0$:\", r\"$P_1$:\"],\n",
    "       ex_cols=[\"|E_P0|\", \"|E_P1|\"])\n",
    "if save_images:\n",
    "    plt.savefig(\"edges_P0P1.png\", bbox_inches=\"tight\")"
   ]
  },
  {
   "cell_type": "code",
   "execution_count": 22,
   "metadata": {
    "scrolled": false
   },
   "outputs": [
    {
     "data": {
      "image/png": "[encoded data removed]",
      "text/plain": [
       "<Figure size 864x576 with 1 Axes>"
      ]
     },
     "metadata": {
      "needs_background": "light"
     },
     "output_type": "display_data"
    }
   ],
   "source": [
    "plot_df(cp_args=cp_args, n_cp_args=n_cp_args, stats_list=stats_list, \n",
    "        col_names=[r\"$e_g$:\", r\"$g_e$:\"],\n",
    "       ex_cols=[\"|S_P0|\", \"|S_P1|\"], ylabel=r\"$|\\mathcal{S}|$\", xlabel=\"input graph\")\n",
    "if save_images:\n",
    "    plt.savefig(\"sizes_cross_e_g.png\", bbox_inches=\"tight\")"
   ]
  }
 ],
 "metadata": {
  "kernelspec": {
   "display_name": "Python 3 (ipykernel)",
   "language": "python",
   "name": "python3"
  },
  "language_info": {
   "codemirror_mode": {
    "name": "ipython",
    "version": 3
   },
   "file_extension": ".py",
   "mimetype": "text/x-python",
   "name": "python",
   "nbconvert_exporter": "python",
   "pygments_lexer": "ipython3",
   "version": "3.9.7"
  }
 },
 "nbformat": 4,
 "nbformat_minor": 4
}
